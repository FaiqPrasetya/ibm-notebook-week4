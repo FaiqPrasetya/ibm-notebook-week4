{
 "cells": [
  {
   "cell_type": "markdown",
   "metadata": {
    "collapsed": true
   },
   "source": [
    "# My Jupyter Notebook on IBM Watson Studio"
   ]
  },
  {
   "cell_type": "markdown",
   "metadata": {},
   "source": [
    "**Muhammad Faiq Prasetya**\n",
    "\n",
    "Data Scientist"
   ]
  },
  {
   "cell_type": "markdown",
   "metadata": {},
   "source": [
    "*I am interested in data science because of a friend that is currently working as a data scientist introduced me to data science and I find it intriguing*"
   ]
  },
  {
   "cell_type": "markdown",
   "metadata": {},
   "source": [
    "### This code outputs a simple pyramid code using For Loop"
   ]
  },
  {
   "cell_type": "code",
   "execution_count": 1,
   "metadata": {},
   "outputs": [
    {
     "name": "stdout",
     "output_type": "stream",
     "text": [
      "\n",
      "\n",
      "* \n",
      "\n",
      "* * \n",
      "\n",
      "* * * \n",
      "\n",
      "* * * * \n",
      "\n"
     ]
    }
   ],
   "source": [
    "# simple pyramid code\n",
    "rows = 5 # Row of pyramid\n",
    "\n",
    "for i in range(rows):\n",
    "  for j in range(i):\n",
    "    print(\"*\", end = \" \")\n",
    "  print(\"\\n\")"
   ]
  },
  {
   "cell_type": "markdown",
   "metadata": {},
   "source": [
    "\n",
    "`Code Highlighting`\n",
    "\n",
    "\n",
    "~Strikethrough~\n",
    "\n",
    "\n",
    "1. Numbered \n",
    "2. List\n",
    "\n",
    "\n",
    "*   Bulleted\n",
    "*   List\n",
    "\n",
    "\n",
    "| Jupyter | Table |\n",
    "| -: | :- |\n",
    "| it | works! |"
   ]
  }
 ],
 "metadata": {
  "kernelspec": {
   "display_name": "Python 3.10",
   "language": "python",
   "name": "python3"
  },
  "language_info": {
   "codemirror_mode": {
    "name": "ipython",
    "version": 3
   },
   "file_extension": ".py",
   "mimetype": "text/x-python",
   "name": "python",
   "nbconvert_exporter": "python",
   "pygments_lexer": "ipython3",
   "version": "3.10.6"
  }
 },
 "nbformat": 4,
 "nbformat_minor": 1
}
